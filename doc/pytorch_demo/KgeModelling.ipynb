{
 "cells": [
  {
   "cell_type": "code",
   "execution_count": 1,
   "id": "cb8ca34a-c595-4a54-8321-95de4b3cea48",
   "metadata": {},
   "outputs": [],
   "source": [
    "# Copyright (c) 2022 Graphcore Ltd. All rights reserved."
   ]
  },
  {
   "cell_type": "markdown",
   "id": "480b3109-e50a-4b8c-bf8e-31f41ba1ccb5",
   "metadata": {
    "tags": []
   },
   "source": [
    "# KGE on multiple IPUs using BESS\n",
    "\n",
    "This notebook covers training of a Knowledge Graph Embedding model using multiple IPUs and inference for Knowledge Graph Completion.\n",
    "\n",
    " - Model: [TransE](https://papers.nips.cc/paper/2013/hash/1cecc7a77928ca8133fa24680a88d2f9-Abstract.html)\n",
    " - Dataset: [ogbl-wikikg2](https://ogb.stanford.edu/docs/linkprop/#ogbl-wikikg2)\n",
    " - Execution scheme: Balanced Entity Sampling & Sharing ([BESS](https://arxiv.org/abs/2211.12281))\n",
    "\n",
    "We demonstrate some of the techniques underlying Graphcore's winning entry to the link prediction track of the [2022 Open Graph Benchmark Large Scale Challenge](https://ogb.stanford.edu/neurips2022/). The dataset used here is similar to the large WikiKG90Mv2 dataset from the challenge, while being smaller, faster to train and linkable against the source Wikidata."
   ]
  },
  {
   "cell_type": "markdown",
   "id": "58461d87-f465-4800-8e14-a4c5622beed8",
   "metadata": {
    "tags": []
   },
   "source": [
    "## 0. Preamble\n",
    "\n",
    "Before getting started, we shuld note that this notebook relies on custom supporting code:\n",
    " - [kge_training.py](kge_training.py) - main KGE sampling, modeling, training code\n",
    "   - [custom_ops.cpp](custom_ops.cpp) - a custom op and optimisation pattern to support IPU training\n",
    "   - [Makefile](Makefile) - native build for `custom_ops.cpp`\n",
    " - [kge_mapping.py](kge_mapping.py) - utilities for interactive inference\n",
    "   - [Preprocessing.ipynb](Preprocessing.ipynb) - for reference, what preprocessing steps have been taken\n",
    " - [requirements.txt](requirements.txt)\n",
    "\n",
    "In particular, we would encourage reading & modifying [kge_training.py](kge_training.py).\n",
    "\n",
    "---\n",
    "\n",
    "**Note:** if you get the following error, please restart the notebook before re-running a fresh experiment.\n",
    "\n",
    "```\n",
    "RuntimeError: Model has already been wrapped in 'poptorch.trainingModel'. Call model.destroy() on the model to unwrap before wrapping again.\n",
    "```"
   ]
  },
  {
   "cell_type": "code",
   "execution_count": 3,
   "id": "09925f08-9790-450f-ba5d-5479213d9d7a",
   "metadata": {},
   "outputs": [
    {
     "name": "stdout",
     "output_type": "stream",
     "text": [
      "make: 'build/custom_ops.so' is up to date.\n",
      "Running on 4 IPUs\n"
     ]
    }
   ],
   "source": [
    "# Before we start, build C++ custom ops & import dependencies.\n",
    "\n",
    "!pip install -qr requirements.txt\n",
    "!make\n",
    "\n",
    "%load_ext autoreload\n",
    "%autoreload 2\n",
    "\n",
    "import functools\n",
    "import matplotlib.pyplot as plt\n",
    "import numpy as np\n",
    "import os\n",
    "import pandas as pd\n",
    "from pathlib import Path\n",
    "import sys\n",
    "import tqdm\n",
    "import torch as T\n",
    "\n",
    "# Local modules - feel free to peek inside & modify\n",
    "import kge_training\n",
    "import kge_mapping\n",
    "\n",
    "# Environment configuration\n",
    "NUM_AVAILABLE_IPU = int(os.getenv(\"NUM_AVAILABLE_IPU\", 16))\n",
    "DATA_ROOT = Path(os.environ[\"DATASET_DIR\"]) / \"ogbl_wikikg2_custom\"\n",
    "\n",
    "if NUM_AVAILABLE_IPU >= 16:\n",
    "    DEFAULT_EMBEDDING_SIZE = 200\n",
    "    DEFAULT_OPTIMISER = \"adamw\"\n",
    "else:\n",
    "    DEFAULT_EMBEDDING_SIZE = 100\n",
    "    DEFAULT_OPTIMISER = \"sgdm\"\n",
    "\n",
    "print(f\"Running on {NUM_AVAILABLE_IPU} IPUs\")"
   ]
  },
  {
   "cell_type": "markdown",
   "id": "03860126-d135-41c9-8690-11ce3d176015",
   "metadata": {
    "tags": []
   },
   "source": [
    "## 1. Data\n",
    "\n",
    "To simplify the API for this example, we've pulled the data out of an OGB loader into a simple dataclass called `Dataset`."
   ]
  },
  {
   "cell_type": "code",
   "execution_count": 4,
   "id": "e4f48935-5c66-4d06-8716-b1d064143f4b",
   "metadata": {},
   "outputs": [
    {
     "name": "stdout",
     "output_type": "stream",
     "text": [
      "        Entities:  2,500,604\n",
      "  Relation types:        535\n",
      "Training triples: 16,109,182\n",
      "\n",
      "Example train [head, relation, tail]:\n"
     ]
    },
    {
     "data": {
      "text/plain": [
       "array([[  70797,     274, 1730548],\n",
       "       [ 675506,     436, 1556309],\n",
       "       [1657671,      24, 1686053],\n",
       "       [ 991166,      75, 2404597]])"
      ]
     },
     "metadata": {},
     "output_type": "display_data"
    }
   ],
   "source": [
    "# Load the dataset into memory & print some statistics.\n",
    "\n",
    "data = kge_training.Dataset.load(DATA_ROOT / \"ogbl_wikikg2.npz\")\n",
    "\n",
    "print(f\"        Entities: {data.n_entity:>10,}\")\n",
    "print(f\"  Relation types: {data.n_relation_type:>10}\")\n",
    "print(f\"Training triples: {data.triples['train'].shape[0]:>10,}\")\n",
    "print()\n",
    "print(\"Example train [head, relation, tail]:\")\n",
    "display(data.triples[\"train\"][:4])"
   ]
  },
  {
   "cell_type": "markdown",
   "id": "e0ef5a53-2dda-45a7-912a-5777c696845a",
   "metadata": {
    "tags": []
   },
   "source": [
    "## 2. Sharding\n",
    "\n",
    "As the number of entities is large and our model will construct a trainable embedding for each entity, we will split entities evenly across IPUs. We use a simple balanced-random assignment of entities to shards, and use index arrays to map from entity to (shard, idx) and back to entity."
   ]
  },
  {
   "cell_type": "code",
   "execution_count": 5,
   "id": "21e6012a-11f1-42fb-b7f5-f0562b050699",
   "metadata": {},
   "outputs": [
    {
     "name": "stdout",
     "output_type": "stream",
     "text": [
      "Entity 70797\n",
      "-> Shard 3, Idx 422334\n",
      "-> Entity 70797\n"
     ]
    }
   ],
   "source": [
    "# Randomly shard entities & show a round-trip example.\n",
    "\n",
    "sharding = kge_training.Sharding.create(n_entity=data.n_entity, n_shard=NUM_AVAILABLE_IPU, seed=None)\n",
    "\n",
    "example_entity = 70797\n",
    "example_entity_shard = sharding.entity_to_shard[example_entity]\n",
    "example_entity_idx = sharding.entity_to_idx[example_entity]\n",
    "\n",
    "print(f\"Entity {example_entity}\")\n",
    "print(f\"-> Shard {example_entity_shard}, Idx {example_entity_idx}\")\n",
    "print(f\"-> Entity {sharding.shard_and_idx_to_entity[example_entity_shard, example_entity_idx]}\")"
   ]
  },
  {
   "cell_type": "markdown",
   "id": "bd62cc75-c632-44b5-b221-1cefdbd5d181",
   "metadata": {
    "tags": []
   },
   "source": [
    "## 3. Batch sampling\n",
    "\n",
    "The batch sampler is a key component of BESS. It is responsible for sampling balanced batches of triples and negative tail samples for the contrastive loss.\n",
    "\n",
    " - Group all triples in the dataset into buckets, according to the shard for their head & tail entities.\n",
    "   - For example, with 4 shards, there will be 16 buckets, for each `(head shard, tail shard)` combination.\n",
    " - Sample `n_positive` triples from the dataset for each bucket.\n",
    "   - This provides `head` and `relation` in the final batch.\n",
    " - Sample `n_negative` tail entities, uniformly at random for each bucket.\n",
    " - Concatenate the true tails with negative samples, and transpose them from `(head shard, tail shard, n_negative)` to `(tail shard, head shard, n_negative)` so that the index of the shard where the entity is stored comes first.\n",
    "   - This provides `src_tails` in the final batch.\n",
    "   \n",
    "Each call to the batch sampler returns `n_batch_per_call` batches."
   ]
  },
  {
   "cell_type": "code",
   "execution_count": 6,
   "id": "c5cb3c0a-9f13-4247-8541-425182c3d812",
   "metadata": {},
   "outputs": [
    {
     "name": "stdout",
     "output_type": "stream",
     "text": [
      "Example batch:\n"
     ]
    },
    {
     "data": {
      "text/plain": [
       "{'head': 'int64[2000, 4, 4, 64]',\n",
       " 'relation': 'int64[2000, 4, 4, 64]',\n",
       " 'src_tails': 'int64[2000, 4, 4, 128]'}"
      ]
     },
     "metadata": {},
     "output_type": "display_data"
    }
   ],
   "source": [
    "# Setup the batch sampler, and show an example batch.\n",
    "\n",
    "batch_sampler = kge_training.BatchSampler(\n",
    "    triples=data.triples[\"train\"],\n",
    "    sharding=sharding,\n",
    "    n_positive=256 // sharding.n_shard,\n",
    "    n_negative=256 // sharding.n_shard,\n",
    "    n_batch_per_call=2000,\n",
    "    seed=3000,\n",
    ")\n",
    "example_batch = next(batch_sampler)\n",
    "print(\"Example batch:\")\n",
    "display({k: f\"{v.dtype}{list(v.shape)}\" for k, v in example_batch.items()})"
   ]
  },
  {
   "cell_type": "markdown",
   "id": "1e9d5bb8-6aac-41ce-966d-877133291409",
   "metadata": {
    "tags": []
   },
   "source": [
    "## 3. Model\n",
    "\n",
    "Create a `torch.nn.Module` with the model logic. The model is essentially:\n",
    "\n",
    "```python\n",
    "head_embeddings = entity_embedding[head, :]\n",
    "relation_embeddings = relation_embedding[relation, :]\n",
    "tail_embeddings = entity_embedding[tail, :]\n",
    "\n",
    "score = -l1distance(head_embeddings + relation_embeddings, tail_embeddings)\n",
    "\n",
    "loss = sampled_softmax_cross_entropy(score, tail_label, total_classes=n_entity)\n",
    "```\n",
    "\n",
    "where `tail` are the (positive and negative) tail candidates shared by the triples in the batch and `tail_label` are the ground-truth tails. In practice, `tail` is obtained from `src_tails` after sharing sharded embeddings between replicas according to the BESS scheme (see [kge_training.py](kge_training.py)). We also use separate implementations for CPU and IPU, since:\n",
    "\n",
    " - On CPU, sharded operations are written as batched PyTorch operations.\n",
    " - On IPU, sharded operations are written for a single shard, with explicit collectives (see `all_to_all`)."
   ]
  },
  {
   "cell_type": "code",
   "execution_count": 7,
   "id": "42198268-45d9-461e-8f00-e31a3f453c44",
   "metadata": {},
   "outputs": [
    {
     "name": "stdout",
     "output_type": "stream",
     "text": [
      "   Parameters: {'entity_embedding': 'torch.float16[4, 625151, 100]', 'relation_embedding': 'torch.float16[535, 100]'}\n",
      " Example loss: 14.732799530029297\n",
      "Baseline loss: 14.732042860657849\n"
     ]
    }
   ],
   "source": [
    "# Create and initialise the model, and show the output loss for an example batch (running on CPU).\n",
    "\n",
    "model = kge_training.Model(\n",
    "    embedding_size=DEFAULT_EMBEDDING_SIZE,\n",
    "    sharding=sharding,\n",
    "    n_relation_type=data.n_relation_type,\n",
    ")\n",
    "model.half()\n",
    "print(\"   Parameters:\", {k: f\"{v.dtype}{list(v.shape)}\" for k, v in model.named_parameters()})\n",
    "\n",
    "example_loss = model(**{k: T.tensor(v[0]) for k, v in example_batch.items()})\n",
    "print(\" Example loss:\", float(example_loss) / (sharding.n_shard ** 2 * batch_sampler.n_positive))\n",
    "print(\"Baseline loss:\", np.log(data.n_entity))"
   ]
  },
  {
   "cell_type": "markdown",
   "id": "17ac3035-9134-45ab-866d-80944c1279a1",
   "metadata": {
    "tags": []
   },
   "source": [
    "## (3->5 Cheat code)\n",
    "\n",
    "Training is fun, but it takes a while. If you want to skip to part 5, uncomment and execute the following cell first."
   ]
  },
  {
   "cell_type": "code",
   "execution_count": 8,
   "id": "82126964-aa18-4356-8290-2b963e2e18c1",
   "metadata": {},
   "outputs": [],
   "source": [
    "# # Load a pretrained checkpoint\n",
    "\n",
    "# PRETRAINED_PATH = DATA_ROOT / f\"parameters_s{model.sharding.n_shard}_e{model.embedding_size}.pt\"\n",
    "# try:\n",
    "#     model.load(PRETRAINED_PATH)\n",
    "#     sharding = model.sharding\n",
    "#     del batch_sampler  # as `sharding` has been updated\n",
    "# except FileNotFoundError as e:\n",
    "#     print(f\"Pre-trained checkpoint not found: {PRETRAINED_PATH}\", file=sys.stderr)\n",
    "#     print(f\"Available: {', '.join(f.name for f in DATA_ROOT.iterdir() if f.suffix == '.pt')}\", file=sys.stderr)"
   ]
  },
  {
   "cell_type": "markdown",
   "id": "dae174fd-1dec-4e2b-bfb1-89d02d32f49e",
   "metadata": {
    "tags": []
   },
   "source": [
    "## 4. Training\n",
    "\n",
    "Everything is ready to start training. _We recommend you **start running** the next cell while you read._\n",
    "\n",
    "Most of the training logic isn't specific to KGE models, so please see PopTorch [documentation](https://docs.graphcore.ai/projects/poptorch-user-guide/en/latest/intro.html) for general IPU training guidance.\n",
    "\n",
    "An important detail is the use of `replicaGrouping` on the `entity_embedding` parameter:\n",
    "\n",
    "```python\n",
    "ipu_model.entity_embedding.replicaGrouping(\n",
    "    poptorch.CommGroupType.NoGrouping,\n",
    "    0,\n",
    "    poptorch.VariableRetrievalMode.OnePerGroup,\n",
    ")\n",
    "```\n",
    "\n",
    "This means that the leading axis of `entity_embedding`, shape `(n_shard, max_entity_per_shard, embedding_size)`, is used to split `entity_embedding` across replicas (in this case, across 4 IPUs). This is critical for memory use, as each IPU will now store only `1/n_shard` of the global embedding table. The model then executes on each IPU as if `entity_embedding` is of shape `(max_entity_per_shard, embedding_size)`, but has access to state held on other IPUs via cross-replica collectives such as `all_to_all()`.\n",
    "\n",
    "**Training parameters (4-IPU variant)**\n",
    "\n",
    "| Parameter | Default value | Explanation |\n",
    "| --- | --- | --- |\n",
    "| `n_shard` | $4$ | We can fit 2.5M entities on 4 IPUs with baseline settings. More IPUs would allow Adam, larger embedding size, etc. |\n",
    "| `optimiser` | \"sgdm\" (SGD with momentum) | This reduces optimiser state memory usage versus Adam, although it has a slight negative impact on MRR. |\n",
    "| `lr` | $10^{-3}$ | Chosen via sweep. |\n",
    "| `sgdm_momentum` | $0.95$ | Chosen via sweep. |\n",
    "| `weight_decay` | $0$ | Useful for regularisation. Not required with default settings. |\n",
    "| `embedding_size` | $100$ | Good performance, within memory limitations. |\n",
    "\n",
    "**While it's training, why not...**\n",
    " - Read through some key implementation highlights in [kge_training.py](kge_training.py)\n",
    "   - `Model.forward_ipu`, the core model\n",
    "   - `BatchSampler.__next__`, BESS batch sampler (if you're brave - we recommend reading the theoretical explanation in the technical report first)\n",
    "   - `create_train_step`, training configuration, unifying the IPU and CPU training interface\n",
    " - Learn more about the models & BESS from our [technical report](https://arxiv.org/abs/2211.12281)"
   ]
  },
  {
   "cell_type": "code",
   "execution_count": 9,
   "id": "cd421e4e-ce3e-4e7f-8fd1-e46698992f04",
   "metadata": {},
   "outputs": [
    {
     "name": "stderr",
     "output_type": "stream",
     "text": [
      "[22:50:04.501] [poptorch:cpp] [warning] [DISPATCHER] Tensor (ptr 0xa459b00) type coerced from Long to Int\n",
      "Graph compilation: 100%|██████████████████████████████████████████████████████████████████████████████████████████████████████████████████████████████████████████████████████████████████████████████████████| 100/100 [02:11<00:00]\n",
      "WARNING: The compile time engine option debug.branchRecordTile is set to \"5887\" when creating the Engine. (At compile-tile it was set to 1471)\n",
      "2022-12-19T22:52:22.931490Z popart:session 3775550.3775550 W: Rng state buffer was not serialized.You did not load poplar Engine.Remember that if you would like to run the model using the model runtime then you have to create your own buffer and callback in your model runtime application for rngStateTensor.\n",
      "                                                                                                                                            \r"
     ]
    },
    {
     "name": "stdout",
     "output_type": "stream",
     "text": [
      "{'step': 400000, 'example': 409600000, 'mrr': 0.23015555555555556, 'loss': 4.519117832183838, 'elapsed': 42.035274028778076}\n"
     ]
    },
    {
     "name": "stderr",
     "output_type": "stream",
     "text": [
      "                                                                                                                                            \r"
     ]
    },
    {
     "name": "stdout",
     "output_type": "stream",
     "text": [
      "{'step': 800000, 'example': 819200000, 'mrr': 0.2608888888888889, 'loss': 3.64971923828125, 'elapsed': 43.9774055480957}\n"
     ]
    },
    {
     "name": "stderr",
     "output_type": "stream",
     "text": [
      "                                                                                                                                            \r"
     ]
    },
    {
     "name": "stdout",
     "output_type": "stream",
     "text": [
      "{'step': 1200000, 'example': 1228800000, 'mrr': 0.28966984126984124, 'loss': 3.731241464614868, 'elapsed': 45.619216203689575}\n"
     ]
    },
    {
     "name": "stderr",
     "output_type": "stream",
     "text": [
      "                                                                                                                                            \r"
     ]
    },
    {
     "name": "stdout",
     "output_type": "stream",
     "text": [
      "{'step': 1600000, 'example': 1638400000, 'mrr': 0.2843458333333333, 'loss': 3.528998851776123, 'elapsed': 41.735044717788696}\n"
     ]
    },
    {
     "name": "stderr",
     "output_type": "stream",
     "text": [
      "                                                                                                                                            \r"
     ]
    },
    {
     "name": "stdout",
     "output_type": "stream",
     "text": [
      "{'step': 2000000, 'example': 2048000000, 'mrr': 0.2755638888888889, 'elapsed': 44.26258563995361}\n"
     ]
    },
    {
     "name": "stderr",
     "output_type": "stream",
     "text": [
      "training: 100%|██████████████████████████████| 1000/1000 [25:38<00:00,  1.54s/it, step: 2e+06, example: 2.05e+09, mrr: 0.276, elapsed: 44.3]\n",
      "/a/work/douglaso_research/PoplarKGE/demo/.wenvs/3.1.0-EA.1+1187/lib/python3.8/site-packages/torch/nn/modules/module.py:1428: UserWarning: Positional args are being deprecated, use kwargs instead. Refer to https://pytorch.org/docs/master/generated/torch.nn.Module.html#torch.nn.Module.state_dict for details.\n",
      "  warnings.warn(\n"
     ]
    }
   ],
   "source": [
    "# Run training. Note that there are longer pauses for validation.\n",
    "# Most of the inline code is for progress tracking\n",
    "\n",
    "n_step = int(8e6 / model.sharding.n_shard)\n",
    "steps = kge_training.train(\n",
    "    model, batch_sampler,\n",
    "    n_step=n_step,\n",
    "    optimiser=DEFAULT_OPTIMISER,\n",
    "    lr=1e-3,\n",
    "    sgdm_momentum=0.95,\n",
    "    weight_decay=0,\n",
    "    valid_triples=data.sample(\"valid\", n=int(2e3), seed=4000),\n",
    "    valid_interval=n_step // 5,\n",
    "    device=\"ipu\",\n",
    ")\n",
    "full_log = [next(steps)]  # trigger compilation\n",
    "steps = tqdm.tqdm(steps, desc=\"training\", total=n_step // batch_sampler.n_batch_per_call, ncols=140)\n",
    "for step in steps:\n",
    "    full_log.append(step)\n",
    "    steps.set_postfix_str(\", \".join(f\"{k}: {v:.3g}\" for k, v in step.items()))\n",
    "    if \"mrr\" in step:\n",
    "        steps.clear()\n",
    "        print(step, flush=True)\n",
    "model.save(Path(\"parameters.pt\"))"
   ]
  },
  {
   "cell_type": "markdown",
   "id": "4cfdad53-080f-45d6-b759-82571c7b24c7",
   "metadata": {},
   "source": [
    "### How did training go?\n",
    "\n",
    "> Regarding validation MRR, note that the official ogbl-wikikg2 task provides a hit-list of 500 tail candidates for each query, which makes the MRR objective considerably easier, since the model has 500 options to choose from instead of 2.5 million. We do not use the hit-list and score each query against all entities in the KG, to exemplify a more general link-prediction pipeline. The full ogbl-wikikg2 task also involves both `(head, relation, ?)` and `(?, relation, tail)` queries, while our example uses only the former."
   ]
  },
  {
   "cell_type": "code",
   "execution_count": 10,
   "id": "c6a72c93-1165-464c-bdef-d6a244e35714",
   "metadata": {},
   "outputs": [
    {
     "data": {
      "image/png": "[encoded data removed]",
      "text/plain": [
       "<Figure size 600x400 with 2 Axes>"
      ]
     },
     "metadata": {},
     "output_type": "display_data"
    }
   ],
   "source": [
    "# Plot training curves. Please try to zone out the inline plotting code.\n",
    "\n",
    "df = pd.DataFrame(full_log)\n",
    "plt.figure(figsize=(6, 4))\n",
    "ax0, ax1 = plt.gca(), plt.twinx()\n",
    "line0, = ax0.plot(df.example, df.loss)\n",
    "d = df[~df.mrr.isna()]\n",
    "line1, = ax1.plot(d.example, d.mrr, color='g')\n",
    "ax0.set_xscale(\"log\")\n",
    "ax0.set_xlim((df.example.max()/20, df.example.max() * 1.1))\n",
    "ax0.set_xlabel(\"Example\")\n",
    "ax0.set_ylabel(\"Loss\")\n",
    "ax1.set_ylim((0, df.mrr.max() + 0.02))\n",
    "ax1.set_ylabel(\"MRR\")\n",
    "plt.legend([line0, line1], [\"Loss\", \"MRR\"]);"
   ]
  },
  {
   "cell_type": "markdown",
   "id": "5d17dda0-34ae-4061-a97d-5ed077b992de",
   "metadata": {
    "tags": []
   },
   "source": [
    "## 5. Inference\n",
    "\n",
    "While the MRR numbers we've seen during training seem reasonable for this kind of model, we would like to get a more direct impression of model performance.\n",
    "\n",
    "The ogbl-wikikg2 dataset helpfully includes instructions for mapping entity and relation IDs back to Wikidata items and linking properties, which are interpretable. As the naive way of doing this would be prohibitively slow, we have built a mapping database from Wikidata dumps. This allows us to map text queries to and from entity and relation type IDs.\n",
    "\n",
    "_Please play with the query strings in the interface below to explore the model._\n",
    "\n",
    "**Note:**\n",
    " - Items under \"head\" and \"relation\" are text search matches, while those under \"tail predictions\" are the most likely (ordered) predictions from the KGE model.\n",
    " - Predictor query strings can use [SQLite FTS3 syntax](https://www.sqlite.org/fts3.html).\n",
    " - Any tail predictions for which the triple `(head, relation, tail)` is present in the training dataset are shown with a green border.\n",
    " - Some labels are missing. These seem to be redirection IDs, which were presumably modified since the 2015 dump in the dataset.\n",
    " - We run inference on the CPU for the sake of simplicity, however BESS effectively supports distribution also at inference time (see the [technical report](https://arxiv.org/abs/2211.12281) for implementation details)."
   ]
  },
  {
   "cell_type": "code",
   "execution_count": 11,
   "id": "e777ae9c-39eb-42ed-8626-c85b70a28ac3",
   "metadata": {
    "tags": []
   },
   "outputs": [
    {
     "name": "stdout",
     "output_type": "stream",
     "text": [
      "Top 100 Relations: 'instance of'  'occupation'  'sex or gender'  'given name'  'country of citizenship'  'place of birth'  'cast member'  'country'  'located in the administrative territorial entity'  'member of sports team'  'place of death'  'award received'  'educated at'  'position held'  'shares border with'  'genre'  'follows'  'followed by'  'member of political party'  'contains the administrative territorial entity'  'participant in'  'taxon rank'  'parent taxon'  'family name'  'performer'  'record label'  'original language of film or TV show'  'director'  'employer'  'location'  'heritage designation'  'country of origin'  ''  'part of'  'child'  'member of'  'sport'  'languages spoken, written or signed'  'depicts'  'discoverer or inventor'  'made from material'  'screenwriter'  'subclass of'  'conflict'  'father'  'work location'  'minor planet group'  'producer'  'located on street'  'twinned administrative body'  'site of astronomical discovery'  'located in time zone'  'platform'  'has part(s)'  ''  'author'  'spouse'  'place of burial'  'creator'  'publisher'  'collection'  'described by source'  'religion or worldview'  'director of photography'  'adjacent station'  'military branch'  'biological process'  'instrument'  'part of the series'  'production company'  'category combines topics'  'cause of death'  'game mode'  'owned by'  'named after'  'academic degree'  'mother'  'narrative location'  'is a list of'  'notable work'  'said to be the same as'  'main subject'  'developer'  'capital'  'transport network'  'position played on team / speciality'  'maintained by'  'filming location'  'website account on'  'operator'  'distribution format'  'cell component'  'participant'  'molecular function'  'language of work or name'  'movement'  'voice type'  'ethnic group'  'category for people who died here'  'field of work'\n"
     ]
    }
   ],
   "source": [
    "# Use our mapping database to perform link prediction.\n",
    "\n",
    "predictor = kge_mapping.Predictor(\n",
    "    kge_mapping.Database(DATA_ROOT / \"ogbl_wikikg2_mapping.sqlite\"),\n",
    "    functools.partial(kge_training.predict, model=model, n_best=10),\n",
    "    train_hrt=data.triples[\"train\"],\n",
    "    n_entity=data.n_entity,\n",
    "    n_relation_type=data.n_relation_type,\n",
    "    n_suggestions=10,\n",
    ")\n",
    "print(\"Top 100 Relations:\", '  '.join([repr(r.wikidata_label) for r in predictor.database.all_relations][:100]))"
   ]
  },
  {
   "cell_type": "code",
   "execution_count": 12,
   "id": "835245c3-7b2c-472d-ac8c-7339695a4f9e",
   "metadata": {},
   "outputs": [
    {
     "data": {
      "text/html": [
       "\n",
       "<style>\n",
       ".kge-q-part {\n",
       "    display: inline-block;\n",
       "    vertical-align: top;\n",
       "}\n",
       ".kge-q-part h1 {\n",
       "    font-size: large;\n",
       "}\n",
       ".kge-q-part ol {\n",
       "    list-style-type: none;\n",
       "}\n",
       ".kge-q-part li {\n",
       "    padding: 0.8em;\n",
       "    margin: 0.2em;\n",
       "    background-color: #eee;\n",
       "    color: #888;\n",
       "}\n",
       ".kge-q-part-head li:nth-of-type(1),.kge-q-part-relation li:nth-of-type(1) {\n",
       "    background-color: #aaf;\n",
       "    color: #000;\n",
       "}\n",
       ".kge-q-part-tail_predictions li {\n",
       "    color: #000;\n",
       "}\n",
       ".kge-q-part a {\n",
       "    color: #008 !important;\n",
       "}\n",
       ".kge-tail-present {\n",
       "    outline: solid #4a48 3px;\n",
       "}\n",
       "</style>\n",
       "<div class=\"kge-q-part kge-q-part-head\"><h1>Head</h1><ol><li class=\"\"><b>Ray Charles</b> (<a href=\"https://www.wikidata.org/wiki/Q544387\" target=”_blank”>Q544387</a>)</li><li class=\"\"><b>Charles Ray</b> (<a href=\"https://www.wikidata.org/wiki/Q2960091\" target=”_blank”>Q2960091</a>)</li><li class=\"\"><b>Charles Bennett Ray</b> (<a href=\"https://www.wikidata.org/wiki/Q5075549\" target=”_blank”>Q5075549</a>)</li><li class=\"\"><b>Michael Ray Charles</b> (<a href=\"https://www.wikidata.org/wiki/Q2684150\" target=”_blank”>Q2684150</a>)</li><li class=\"\"><b>Ray Charles and Betty Carter</b> (<a href=\"https://www.wikidata.org/wiki/Q3420493\" target=”_blank”>Q3420493</a>)</li><li class=\"\"><b>Ray Charles</b> (<a href=\"https://www.wikidata.org/wiki/Q3930614\" target=”_blank”>Q3930614</a>)</li><li class=\"\"><b>Charles Ray Hatcher</b> (<a href=\"https://www.wikidata.org/wiki/Q5081956\" target=”_blank”>Q5081956</a>)</li><li class=\"\"><b>Ray Charles</b> (<a href=\"https://www.wikidata.org/wiki/Q7297319\" target=”_blank”>Q7297319</a>)</li><li class=\"\"><b>Charles Ray</b> (<a href=\"https://www.wikidata.org/wiki/Q872846\" target=”_blank”>Q872846</a>)</li><li class=\"\"><b>Charles Ray Jordan</b> (<a href=\"https://www.wikidata.org/wiki/Q18658533\" target=”_blank”>Q18658533</a>)</li></ol></div><div class=\"kge-q-part kge-q-part-relation\"><h1>Relation</h1><ol><li class=\"\"><b>genre</b> (<a href=\"https://www.wikidata.org/wiki/Property:P136\" target=”_blank”>P136</a>)</li></ol></div><div class=\"kge-q-part kge-q-part-tail_predictions\"><h1>Tail predictions</h1><ol><li class=\"\"><b>soul music</b> (<a href=\"https://www.wikidata.org/wiki/Q131272\" target=”_blank”>Q131272</a>)</li><li class=\"\"><b>pop music</b> (<a href=\"https://www.wikidata.org/wiki/Q37073\" target=”_blank”>Q37073</a>)</li><li class=\"kge-tail-present\"><b>jazz</b> (<a href=\"https://www.wikidata.org/wiki/Q8341\" target=”_blank”>Q8341</a>)</li><li class=\"\"><b>country music</b> (<a href=\"https://www.wikidata.org/wiki/Q83440\" target=”_blank”>Q83440</a>)</li><li class=\"\"><b>rock music</b> (<a href=\"https://www.wikidata.org/wiki/Q11399\" target=”_blank”>Q11399</a>)</li><li class=\"\"><b>folk rock</b> (<a href=\"https://www.wikidata.org/wiki/Q186472\" target=”_blank”>Q186472</a>)</li><li class=\"\"><b>post-bop</b> (<a href=\"https://www.wikidata.org/wiki/Q1092837\" target=”_blank”>Q1092837</a>)</li><li class=\"\"><b>art rock</b> (<a href=\"https://www.wikidata.org/wiki/Q217467\" target=”_blank”>Q217467</a>)</li><li class=\"\"><b>rhythm and blues</b> (<a href=\"https://www.wikidata.org/wiki/Q45981\" target=”_blank”>Q45981</a>)</li><li class=\"\"><b>musical film</b> (<a href=\"https://www.wikidata.org/wiki/Q842256\" target=”_blank”>Q842256</a>)</li></ol></div>"
      ],
      "text/plain": [
       "Predictions(heads=[Entry(type='entity', idx=1848896, wikidata_id='Q544387', wikidata_label='Ray Charles'), Entry(type='entity', idx=1205985, wikidata_id='Q2960091', wikidata_label='Charles Ray'), Entry(type='entity', idx=1747151, wikidata_id='Q5075549', wikidata_label='Charles Bennett Ray'), Entry(type='entity', idx=1140750, wikidata_id='Q2684150', wikidata_label='Michael Ray Charles'), Entry(type='entity', idx=1352285, wikidata_id='Q3420493', wikidata_label='Ray Charles and Betty Carter'), Entry(type='entity', idx=1502145, wikidata_id='Q3930614', wikidata_label='Ray Charles'), Entry(type='entity', idx=1750372, wikidata_id='Q5081956', wikidata_label='Charles Ray Hatcher'), Entry(type='entity', idx=2221334, wikidata_id='Q7297319', wikidata_label='Ray Charles'), Entry(type='entity', idx=2418556, wikidata_id='Q872846', wikidata_label='Charles Ray'), Entry(type='entity', idx=852180, wikidata_id='Q18658533', wikidata_label='Charles Ray Jordan')], relations=[Entry(type='relation', idx=90, wikidata_id='P136', wikidata_label='genre')], tail_predictions=[Prediction(type='entity', idx=281125, wikidata_id='Q131272', wikidata_label='soul music', in_training=False), Prediction(type='entity', idx=1432319, wikidata_id='Q37073', wikidata_label='pop music', in_training=False), Prediction(type='entity', idx=2400769, wikidata_id='Q8341', wikidata_label='jazz', in_training=True), Prediction(type='entity', idx=2400984, wikidata_id='Q83440', wikidata_label='country music', in_training=False), Prediction(type='entity', idx=135378, wikidata_id='Q11399', wikidata_label='rock music', in_training=False), Prediction(type='entity', idx=851623, wikidata_id='Q186472', wikidata_label='folk rock', in_training=False), Prediction(type='entity', idx=86201, wikidata_id='Q1092837', wikidata_label='post-bop', in_training=False), Prediction(type='entity', idx=1008494, wikidata_id='Q217467', wikidata_label='art rock', in_training=False), Prediction(type='entity', idx=1629417, wikidata_id='Q45981', wikidata_label='rhythm and blues', in_training=False), Prediction(type='entity', idx=2405042, wikidata_id='Q842256', wikidata_label='musical film', in_training=False)])"
      ]
     },
     "execution_count": 12,
     "metadata": {},
     "output_type": "execute_result"
    }
   ],
   "source": [
    "predictor(\"Ray Charles\", \"genre\")"
   ]
  },
  {
   "cell_type": "markdown",
   "id": "c455c8f9-af76-4886-b30c-3eb274908db1",
   "metadata": {
    "tags": []
   },
   "source": [
    "## 6. Wrapping up\n",
    "\n",
    "In this notebook, we've seen BESS applied to distributed KGE training on the IPU. In particular, we emphasise:\n",
    " - The batch sampler is an important component in BESS.\n",
    " - Sharding parameters across IPUs using `replicaGrouping` is an effective way to reduce memory usage.\n",
    " - It is interesting to explore KGE model predictions qualitatively as well as quantitatively.\n",
    "\n",
    "If you're interested to explore further, we suggest:\n",
    " - Implement and test another scoring function, for example [RotatE](https://arxiv.org/abs/1902.10197) or [ComplEx](https://arxiv.org/abs/1606.06357).\n",
    " - How does the number of negative samples affect performance?\n",
    " - (Requires more than 4 IPUs): try increasing `embedding_size`.\n",
    " - (Requires more than 4 IPUs): try training with Adam.\n"
   ]
  }
 ],
 "metadata": {
  "kernelspec": {
   "display_name": "Python 3 (ipykernel)",
   "language": "python",
   "name": "python3"
  },
  "language_info": {
   "codemirror_mode": {
    "name": "ipython",
    "version": 3
   },
   "file_extension": ".py",
   "mimetype": "text/x-python",
   "name": "python",
   "nbconvert_exporter": "python",
   "pygments_lexer": "ipython3",
   "version": "3.8.10"
  }
 },
 "nbformat": 4,
 "nbformat_minor": 5
}
