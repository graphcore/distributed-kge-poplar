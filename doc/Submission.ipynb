{
 "cells": [
  {
   "cell_type": "code",
   "execution_count": 1,
   "id": "6c8347e9-56bc-4b4c-99e2-36d144f329fc",
   "metadata": {},
   "outputs": [],
   "source": [
    "# Copyright (c) 2022 Graphcore Ltd. All rights reserved.\n",
    "\n",
    "%config Completer.use_jedi=False\n",
    "\n",
    "import json\n",
    "from pathlib import Path\n",
    "import sys\n",
    "\n",
    "import matplotlib.pyplot as plt\n",
    "import numpy as np\n",
    "import ogb.lsc\n",
    "import pandas as pd\n",
    "from typing import *\n",
    "import wandb\n",
    "\n",
    "import poplar_kge_ensemble\n",
    "\n",
    "\n",
    "def flatten(d: Any, prefix: Tuple[str, ...] = ()) -> Iterable[Tuple[str, Any]]:\n",
    "    if isinstance(d, dict):\n",
    "        yield from ((kk, vv) for k, v in d.items() for kk, vv in flatten(v, prefix + (k,)))\n",
    "    else:\n",
    "        yield (\".\".join(prefix), d)\n",
    "\n",
    "\n",
    "WANDB_API = wandb.Api(dict(\n",
    "    base_url=\"https://wandb.sourcevertex.net\",\n",
    "    entity=\"ogb-wikiwiki\",\n",
    "    project=\"poplar-kge-v2\",\n",
    "))\n",
    "\n",
    "DATA = ogb.lsc.WikiKG90Mv2Dataset(\"/home/research-datasets/ogb/lsc/\")"
   ]
  },
  {
   "cell_type": "markdown",
   "id": "6d95e9ed-6a42-42d1-a865-e7cdd8286ffd",
   "metadata": {},
   "source": [
    "# Submission"
   ]
  },
  {
   "cell_type": "code",
   "execution_count": 2,
   "id": "d7ac96f3-feb6-4711-9a25-15ee5471247b",
   "metadata": {},
   "outputs": [],
   "source": [
    "# Fetch run data & predictions from wandb\n",
    "\n",
    "def load_predictions(ids: List[str]) -> Dict[str, np.ndarray]:\n",
    "    cache_dir = Path(\"runs\")\n",
    "    all_predictions = {k: [] for k in [\"valid\", \"test-dev\", \"test-challenge\"]}\n",
    "    for id_ in ids:\n",
    "        run = WANDB_API.run(f\"poplar-kge-v2/{id_}\")\n",
    "        assert run.state == \"finished\", f\"run {id_} is not finished\"\n",
    "        run_dir = cache_dir / id_\n",
    "        if not run_dir.exists():\n",
    "            print(f\"Syncing {id_:<30}\", file=sys.stderr, end=\"\\r\")\n",
    "            run_dir.mkdir()\n",
    "            for file in run.files():\n",
    "                if file._attrs[\"name\"].startswith(\"predictions_\"):\n",
    "                    file.download(run_dir)\n",
    "        predictions = np.load(run_dir / \"predictions_final.npz\")\n",
    "        for part in all_predictions:\n",
    "            all_predictions[part].append(predictions[part])\n",
    "    return {k: np.stack(v) for k, v in all_predictions.items()}\n",
    "\n",
    "def run_summary(run: wandb.apis.public.Run) -> Dict[str, Any]:\n",
    "    return {\n",
    "        \"w.id\": run.id,\n",
    "        \"w.name\": run.name,\n",
    "        \"w.state\": run.state,\n",
    "        \"w.notes\": run.notes,\n",
    "        \"w.has_final_predictions\": (run.state == \"finished\") and any(f.name == \"predictions_final.npz\" for f in run.files()),\n",
    "        **{f\"s.{k}\": v for k, v in run.summary.items() if not k.startswith(\"_\")},\n",
    "        **dict(flatten(run.config, (\"c\",))),\n",
    "    }\n",
    "\n",
    "df = pd.DataFrame.from_dict([run_summary(run) for run in WANDB_API.runs(filters={\"created_at\": {\"$lt\": \"2022-10-30T12:00:00\"}})])\n",
    "# Filter and fix \"c.model.distance_fn\"\n",
    "df = df[~((df[\"c.model.score_fn\"] == \"ComplEx\") & (df[\"c.model.distance_fn\"] != \"MatMul\"))]\n",
    "df.loc[(df[\"c.model.score_fn\"] == \"DistMult\") & (df[\"c.model.distance_fn\"] != \"MatMul\"), \"c.model.distance_fn\"] = \"MatMul\""
   ]
  },
  {
   "cell_type": "code",
   "execution_count": 3,
   "id": "a5710c1f-e24e-4b04-8875-018772a967f3",
   "metadata": {},
   "outputs": [],
   "source": [
    "# Create ensemble\n",
    "\n",
    "COUNT_BY_SCORE_FN = dict(\n",
    "    TransE=25,\n",
    "    TransH=5,\n",
    "    RotatE=5,\n",
    "    ComplEx=25,\n",
    "    DistMult=25,\n",
    ")\n",
    "ENSEMBLE_SCORE_POWER = -0.5\n",
    "\n",
    "runs_to_ensemble = (df\n",
    "    .pipe(lambda d: d[d[\"w.has_final_predictions\"]])\n",
    "    .pipe(lambda d: d.groupby(\"c.model.score_fn\")\n",
    "        .apply(lambda g: g.sort_values(\"s.valid_mrr\", ascending=False).head(COUNT_BY_SCORE_FN.get(g[\"c.model.score_fn\"].iloc[0], 0)))\n",
    "        .reset_index(drop=True))\n",
    ")\n",
    "\n",
    "predictions = {\n",
    "    part: poplar_kge_ensemble.mean_ensemble(predictions, count=10, power=ENSEMBLE_SCORE_POWER)\n",
    "    for part, predictions in load_predictions(runs_to_ensemble[\"w.id\"]).items()\n",
    "}"
   ]
  },
  {
   "cell_type": "code",
   "execution_count": 4,
   "id": "37b9d44b-abe3-4e19-8422-a5d5d7569a92",
   "metadata": {},
   "outputs": [
    {
     "name": "stdout",
     "output_type": "stream",
     "text": [
      "82bf708ef47ae1940d66810939cac790746a2faf7fdc11798c4ed18e34de9e51  wikiwiki/t_pred_wikikg90m-v2_test-challenge.npz\n",
      "efc4a55cd5b588fc9f6b5a3293caa0bb4163db6a869569fe091d88e940138587  wikiwiki/t_pred_wikikg90m-v2_test-dev.npz\n"
     ]
    }
   ],
   "source": [
    "# Evaluate Valid MRR & save test submission\n",
    "\n",
    "valid_mrr = ogb.lsc.WikiKG90Mv2Evaluator().eval({\"h,r->t\": {\n",
    "    \"t_pred_top10\": predictions[\"valid\"].astype(np.int32),\n",
    "    \"t\": DATA.valid_dict[\"h,r->t\"][\"t\"]\n",
    "}})[\"mrr\"]\n",
    "\n",
    "!rm -r wikiwiki/\n",
    "\n",
    "for part in [\"test-dev\", \"test-challenge\"]:\n",
    "    ogb.lsc.WikiKG90Mv2Evaluator().save_test_submission({\"h,r->t\": {\"t_pred_top10\": predictions[part].astype(np.int32)}}, dir_path=\"wikiwiki\", mode=part)\n",
    "\n",
    "!sha256sum wikiwiki/*"
   ]
  },
  {
   "cell_type": "code",
   "execution_count": 5,
   "id": "6ace8a10-c3cd-43e0-b8fe-66cad7c8e244",
   "metadata": {},
   "outputs": [
    {
     "name": "stdout",
     "output_type": "stream",
     "text": [
      "                  Validation performance | 0.29219308495521545\n",
      "                         Package version | 1.3.4\n",
      "              Training hardware and time | 16 hours on an IPU-POD16 Classic (single model)\n",
      "        Test inference hardware and time | 101 seconds on an IPU-POD16 Classic (single model)\n",
      "       List of optimised hyperparameters | lr: [3e-4 - 3e-3* - 3e-2], batch_size: [256* - 512], share_feature_networks: [False*, True], loss.type: [logsigmoid*, softmax], ...\n",
      "              Number of models ensembled | 85\n",
      "          Number of learnable parameters | 23,355,606,912\n"
     ]
    }
   ],
   "source": [
    "# Submission metadata\n",
    "\n",
    "def count_parameters() -> int:\n",
    "    # Run: 22ry4y5k (warm-mountain-841)\n",
    "    entity_embedding_size = 256\n",
    "    relation_embedding_size = entity_embedding_size // 2\n",
    "\n",
    "    entity_embedding_count = DATA.num_entities * entity_embedding_size\n",
    "    relation_embedding_count = DATA.num_relations * relation_embedding_size\n",
    "    feature_projection_count = 2 * DATA.num_feat_dims * entity_embedding_size\n",
    "    \n",
    "    return entity_embedding_count + relation_embedding_count + feature_projection_count\n",
    "\n",
    "for k, v in [\n",
    "    (\"Validation performance\", valid_mrr),\n",
    "    (\"Package version\", ogb.version.__version__),\n",
    "    (\"Training hardware and time\", \"16 hours on an IPU-POD16 Classic (single model)\"),\n",
    "    (\"Test inference hardware and time\", f\"101 seconds on an IPU-POD16 Classic (single model)\"),\n",
    "    (\"List of optimised hyperparameters\",\n",
    "     \"lr: [3e-4 - 3e-3* - 3e-2], batch_size: [256* - 512], share_feature_networks: [False*, True], loss.type: [logsigmoid*, softmax], ...\"),\n",
    "    (\"Number of models ensembled\", len(runs_to_ensemble)),\n",
    "    (\"Number of learnable parameters\", format(count_parameters(), \",\"))\n",
    "]:\n",
    "    print(f\"{k:>40} | {v}\")"
   ]
  },
  {
   "cell_type": "markdown",
   "id": "af40b635-5328-4547-87aa-7d08a9212a3a",
   "metadata": {},
   "source": [
    "# Detail"
   ]
  },
  {
   "cell_type": "code",
   "execution_count": 6,
   "id": "9e1b3698-cfb8-4a15-aeb8-f766481b9578",
   "metadata": {},
   "outputs": [
    {
     "name": "stdout",
     "output_type": "stream",
     "text": [
      "c4b6b813eaeebb116c6994809f3959f60b1b23a6\n"
     ]
    }
   ],
   "source": [
    "!git rev-parse HEAD"
   ]
  },
  {
   "cell_type": "code",
   "execution_count": 7,
   "id": "0f1f1cc7-aa59-43dc-8f16-94fb04208b35",
   "metadata": {},
   "outputs": [
    {
     "name": "stdout",
     "output_type": "stream",
     "text": [
      "[\"1ymtu9ci\", \"m2929ykj\", \"unfk7pcq\", \"2908f7fl\", \"1aqtonow\", \"166cfd6d\", \"3n5ic18k\", \"3a5lz5wd\", \"3n8js75z\", \"1m7kjbll\", \"dii67pxy\", \"ujw96yd9\", \"7yu4bcnh\", \"wmnfg819\", \"3hgsarx7\", \"u9u8lsd9\", \"nm32b09t\", \"7l8qh0hz\", \"3uawgobe\", \"nelp97kv\", \"dvftdrn0\", \"3g03ayr3\", \"uxm2jxp2\", \"1w0yxyci\", \"lxrxmjov\", \"2pg8win9\", \"3u731n72\", \"cwvim27j\", \"tdutpixp\", \"2h7z7wbf\", \"38mdpez0\", \"3y2xhjrr\", \"d0sn0ctq\", \"tferkntd\", \"l2z6dd5m\", \"2knge74c\", \"xcymnily\", \"ccwt8cio\", \"eruuoa8h\", \"jw71uzc7\", \"31qt56am\", \"vpx0jn57\", \"286ot9lt\", \"2c0u8gtx\", \"3ptrtpbm\", \"2d7afm5g\", \"3f0dmdq2\", \"3vcazki2\", \"3w55xxh0\", \"1dcrxzs4\", \"22ry4y5k\", \"34jzc7sp\", \"13ftpjon\", \"3f9hlw0q\", \"3pmu98h2\", \"xddsgip6\", \"3fge8rlg\", \"203gouw9\", \"2gg0okrm\", \"3h6wjvcg\", \"as05j7os\", \"3dgyoowo\", \"2hx05sac\", \"363ka4q9\", \"2490q6iw\", \"2y5w33gk\", \"2607u4kt\", \"1g6j8zo4\", \"330p0g48\", \"m0n9dj3a\", \"2kx3d8ll\", \"8le0t3rh\", \"2em8fjq9\", \"doa4c0i9\", \"np0ow8w9\", \"3hmp955o\", \"3ui3672n\", \"1uhi00kb\", \"my857moy\", \"3lj3cby0\", \"3heg69po\", \"1zdkemzp\", \"q8h2ipht\", \"yhigx5hl\", \"3tqyk7h9\"]\n"
     ]
    }
   ],
   "source": [
    "print(json.dumps(list(runs_to_ensemble[\"w.id\"])))"
   ]
  },
  {
   "cell_type": "code",
   "execution_count": 8,
   "id": "07dcc99d-04e3-49e7-8f22-88827a14fd0c",
   "metadata": {},
   "outputs": [
    {
     "data": {
      "text/html": [
       "<div>\n",
       "<style scoped>\n",
       "    .dataframe tbody tr th:only-of-type {\n",
       "        vertical-align: middle;\n",
       "    }\n",
       "\n",
       "    .dataframe tbody tr th {\n",
       "        vertical-align: top;\n",
       "    }\n",
       "\n",
       "    .dataframe thead th {\n",
       "        text-align: right;\n",
       "    }\n",
       "</style>\n",
       "<table border=\"1\" class=\"dataframe\">\n",
       "  <thead>\n",
       "    <tr style=\"text-align: right;\">\n",
       "      <th></th>\n",
       "      <th>0</th>\n",
       "    </tr>\n",
       "    <tr>\n",
       "      <th>c.model.score_fn</th>\n",
       "      <th></th>\n",
       "    </tr>\n",
       "  </thead>\n",
       "  <tbody>\n",
       "    <tr>\n",
       "      <th>ComplEx</th>\n",
       "      <td>25</td>\n",
       "    </tr>\n",
       "    <tr>\n",
       "      <th>DistMult</th>\n",
       "      <td>25</td>\n",
       "    </tr>\n",
       "    <tr>\n",
       "      <th>RotatE</th>\n",
       "      <td>5</td>\n",
       "    </tr>\n",
       "    <tr>\n",
       "      <th>TransE</th>\n",
       "      <td>25</td>\n",
       "    </tr>\n",
       "    <tr>\n",
       "      <th>TransH</th>\n",
       "      <td>5</td>\n",
       "    </tr>\n",
       "  </tbody>\n",
       "</table>\n",
       "</div>"
      ],
      "text/plain": [
       "                   0\n",
       "c.model.score_fn    \n",
       "ComplEx           25\n",
       "DistMult          25\n",
       "RotatE             5\n",
       "TransE            25\n",
       "TransH             5"
      ]
     },
     "metadata": {},
     "output_type": "display_data"
    },
    {
     "data": {
      "text/html": [
       "<div>\n",
       "<style scoped>\n",
       "    .dataframe tbody tr th:only-of-type {\n",
       "        vertical-align: middle;\n",
       "    }\n",
       "\n",
       "    .dataframe tbody tr th {\n",
       "        vertical-align: top;\n",
       "    }\n",
       "\n",
       "    .dataframe thead th {\n",
       "        text-align: right;\n",
       "    }\n",
       "</style>\n",
       "<table border=\"1\" class=\"dataframe\">\n",
       "  <thead>\n",
       "    <tr style=\"text-align: right;\">\n",
       "      <th></th>\n",
       "      <th>0</th>\n",
       "    </tr>\n",
       "    <tr>\n",
       "      <th>c.model.distance_fn</th>\n",
       "      <th></th>\n",
       "    </tr>\n",
       "  </thead>\n",
       "  <tbody>\n",
       "    <tr>\n",
       "      <th>L1</th>\n",
       "      <td>24</td>\n",
       "    </tr>\n",
       "    <tr>\n",
       "      <th>L2</th>\n",
       "      <td>11</td>\n",
       "    </tr>\n",
       "    <tr>\n",
       "      <th>MatMul</th>\n",
       "      <td>50</td>\n",
       "    </tr>\n",
       "  </tbody>\n",
       "</table>\n",
       "</div>"
      ],
      "text/plain": [
       "                      0\n",
       "c.model.distance_fn    \n",
       "L1                   24\n",
       "L2                   11\n",
       "MatMul               50"
      ]
     },
     "metadata": {},
     "output_type": "display_data"
    },
    {
     "data": {
      "text/html": [
       "<div>\n",
       "<style scoped>\n",
       "    .dataframe tbody tr th:only-of-type {\n",
       "        vertical-align: middle;\n",
       "    }\n",
       "\n",
       "    .dataframe tbody tr th {\n",
       "        vertical-align: top;\n",
       "    }\n",
       "\n",
       "    .dataframe thead th {\n",
       "        text-align: right;\n",
       "    }\n",
       "</style>\n",
       "<table border=\"1\" class=\"dataframe\">\n",
       "  <thead>\n",
       "    <tr style=\"text-align: right;\">\n",
       "      <th></th>\n",
       "      <th>0</th>\n",
       "    </tr>\n",
       "    <tr>\n",
       "      <th>c.training.loss.type</th>\n",
       "      <th></th>\n",
       "    </tr>\n",
       "  </thead>\n",
       "  <tbody>\n",
       "    <tr>\n",
       "      <th>logsigmoid</th>\n",
       "      <td>37</td>\n",
       "    </tr>\n",
       "    <tr>\n",
       "      <th>softmax</th>\n",
       "      <td>46</td>\n",
       "    </tr>\n",
       "  </tbody>\n",
       "</table>\n",
       "</div>"
      ],
      "text/plain": [
       "                       0\n",
       "c.training.loss.type    \n",
       "logsigmoid            37\n",
       "softmax               46"
      ]
     },
     "metadata": {},
     "output_type": "display_data"
    },
    {
     "data": {
      "image/png": "[encoded data removed]",
      "text/plain": [
       "<Figure size 432x288 with 1 Axes>"
      ]
     },
     "metadata": {
      "needs_background": "light"
     },
     "output_type": "display_data"
    },
    {
     "data": {
      "image/png": "[encoded data removed]",
      "text/plain": [
       "<Figure size 432x288 with 1 Axes>"
      ]
     },
     "metadata": {
      "needs_background": "light"
     },
     "output_type": "display_data"
    }
   ],
   "source": [
    "display(runs_to_ensemble.groupby(\"c.model.score_fn\").apply(len).to_frame())\n",
    "display(runs_to_ensemble.groupby(\"c.model.distance_fn\").apply(len).to_frame())\n",
    "display(runs_to_ensemble.groupby(\"c.training.loss.type\").apply(len).to_frame())\n",
    "for key in [\"s.valid_mrr\", \"s.train_mrr\"]:\n",
    "    plt.figure()\n",
    "    plt.hist(runs_to_ensemble[key])\n",
    "    plt.xlabel(key)\n",
    "    plt.ylabel(\"Count\");"
   ]
  },
  {
   "cell_type": "code",
   "execution_count": 9,
   "id": "6027a9c1-cddc-49fb-a75b-27327e4b9cbb",
   "metadata": {},
   "outputs": [
    {
     "data": {
      "text/plain": [
       "{'w.id': '22ry4y5k',\n",
       " 'w.name': 'warm-mountain-841',\n",
       " 'w.state': 'finished',\n",
       " 'w.notes': None,\n",
       " 'w.has_final_predictions': True,\n",
       " 's.train_mrr': 0.4280286133289337,\n",
       " 's.valid_mrr': 0.2432861626148224,\n",
       " 's.compile_time': 686.360630273819,\n",
       " 's.eval_train_time': 101.21137428283691,\n",
       " 's.train_step_loop_time': 9.655645370483398,\n",
       " 's.learning_rate': 0.003000000000000001,\n",
       " 's.load_data_time': 16.66625213623047,\n",
       " 's.initialise_time': 1534.2067091464996,\n",
       " 's.build_index_time': 223.4641933441162,\n",
       " 's.step': 5000000.0,\n",
       " 's.loss': 0.10585989505052566,\n",
       " 's.eval_valid_time': 100.96484351158142,\n",
       " 's.sample': 20480000000.0,\n",
       " 'c.data.seed': 2129884912.0,\n",
       " 'c.data.dataset.name': 'wikikg90mv2',\n",
       " 'c.data.a2a_size': 96.0,\n",
       " 'c.data.batch_size': 256.0,\n",
       " 'c.data.sample_weight': nan,\n",
       " 'c.data.sampling_strategy.type': 'cubic_root',\n",
       " 'c.data.triple_augmentation': nan,\n",
       " 'c.data.entity_feature_mapping': 'full',\n",
       " 'c.seed': 170339634.0,\n",
       " 'c.model.seed': 935351688.0,\n",
       " 'c.model.gamma': 10.0,\n",
       " 'c.model.n_shard': 16.0,\n",
       " 'c.model.n_entity': 5701915.0,\n",
       " 'c.model.score_fn': 'RotatE',\n",
       " 'c.model.init_scale': 1.0,\n",
       " 'c.model.distance_fn': 'L2',\n",
       " 'c.model.embedding_size': 256.0,\n",
       " 'c.model.feature_dropout': 0.0,\n",
       " 'c.model.n_relation_type': 1392.0,\n",
       " 'c.model.feature_mlp_size': 0.0,\n",
       " 'c.model.entity_feature_size': 768.0,\n",
       " 'c.model.share_feature_networks': False,\n",
       " 'c.model.negative_adversarial_scale': 4.0,\n",
       " 'c.logging.path': nan,\n",
       " 'c.logging.wandb': True,\n",
       " 'c.logging.predict_at': [0.8, 0.9],\n",
       " 'c.logging.steps_per_log': 1000.0,\n",
       " 'c.training.loss.type': 'logsigmoid',\n",
       " 'c.training.n_step': 5000000.0,\n",
       " 'c.training.loss_scale': 393216.0,\n",
       " 'c.training.adam_beta_m': 0.9,\n",
       " 'c.training.adam_beta_v': 0.999,\n",
       " 'c.training.adam_epsilon': 1e-08,\n",
       " 'c.training.weight_decay': 0.0,\n",
       " 'c.training.learning_rate': 0.003,\n",
       " 'c.training.learning_rate_decay': nan,\n",
       " 'c.training.validation_interval': 250000.0,\n",
       " 'c.training.hidden_regularisation.power': 3.0,\n",
       " 'c.training.hidden_regularisation.weight': 0.0,\n",
       " 'c.training.feature_regularisation.power': 3.0,\n",
       " 'c.training.feature_regularisation.weight': 0.0,\n",
       " 'c.training.embedding_regularisation.power': 3.0,\n",
       " 'c.training.embedding_regularisation.weight': 0.0,\n",
       " 'c.execution.dtype': 'float16',\n",
       " 'c.execution.device': 'ipu',\n",
       " 'c.execution.rw_batch_size': 512.0,\n",
       " 'c.execution.predict_n_best': 100.0,\n",
       " 'c.execution.predict_hr_batch_size': 128.0,\n",
       " 'c.execution.predict_tail_batch_size': 1024.0,\n",
       " 'c.execution.train_steps_per_program_run': 50.0,\n",
       " 'c.code_changes': ['FIX-hidden-regularisation-weight',\n",
       "  'SOFTMAX_STABLE',\n",
       "  'AKG-22-push-predictions',\n",
       "  'AKG-43-shift-logged-step-count',\n",
       "  'AKG-24-MRR-fix',\n",
       "  'AKG-23-scaled-initialisation'],\n",
       " 'c.training.learning_rate_decay.type': nan,\n",
       " 'c.training.loss.correction_weight': nan,\n",
       " 'c.data.triple_augmentation.type': nan,\n",
       " 'c.training.learning_rate_modifiers.entity_embedding': nan,\n",
       " 'c.training.learning_rate_decay.half_life_steps': nan,\n",
       " 'c.training.feature_regularisation': nan,\n",
       " 'c.training.learning_rate_decay.step': nan,\n",
       " 'c.training.learning_rate_decay.multiplier': nan,\n",
       " 'c.model.tripleRE_u': nan,\n",
       " 'c.training.learning_rate_modifiers.head_feature_projection': nan,\n",
       " 'c.training.learning_rate_modifiers.tail_feature_projection': nan,\n",
       " 'c.training.learning_rate_modifiers.feature_projection': nan,\n",
       " 'c.model.entity_storage_size': nan,\n",
       " 'c.training.learning_rate_modifiers.entity_embedding_projection': nan,\n",
       " 'c.model.use_feature_weight': nan,\n",
       " 'c.data.negative_adversarial_sampling': nan,\n",
       " 'c.model.negative_adversarial_temperature': nan,\n",
       " 'c.model.gated_features': nan,\n",
       " 'c.model.feature_mlp_glu': nan,\n",
       " 'c.model.feature_mlp_squeeze': nan,\n",
       " 'c.model.feature_mlp_residual': nan,\n",
       " 'c.model.feature_mlp_concat_embeddings': nan,\n",
       " 'c.model.use_bias': nan,\n",
       " 'c.training.learning_rate_modifiers.relation_embedding': nan,\n",
       " 'c.training.learning_rate_modifiers.mlp_up_projection': nan,\n",
       " 'c.training.learning_rate_modifiers.mlp_down_projection': nan,\n",
       " 'c.model.separate_entity_embeddings': nan,\n",
       " 'c.model.feature_mlp.glu': nan,\n",
       " 'c.model.feature_mlp.type': nan,\n",
       " 'c.model.feature_mlp.hidden_size': nan,\n",
       " 'c.model.feature_sharing': nan,\n",
       " 'c.model.feature_mlp_for': nan,\n",
       " 'c.model.feature_mlp': nan,\n",
       " 'c.data.sampling_strategy': nan,\n",
       " 'c.data.sample_weight.type': nan,\n",
       " 'c.data.sample_weight.smoothing': nan,\n",
       " 'c.model.entity_features_for': nan,\n",
       " 's.feat_proj_mean': nan,\n",
       " 's.feat_proj_std': nan,\n",
       " 's.feat_proj_min': nan,\n",
       " 's.feat_proj_max': nan,\n",
       " 'c.data.weight_mode': nan,\n",
       " 'c.data.weight_smoothing': nan}"
      ]
     },
     "execution_count": 9,
     "metadata": {},
     "output_type": "execute_result"
    }
   ],
   "source": [
    "runs_to_ensemble.sort_values(\"s.valid_mrr\", ascending=False).iloc[0].to_dict()"
   ]
  }
 ],
 "metadata": {
  "kernelspec": {
   "display_name": "Python 3",
   "language": "python",
   "name": "python3"
  },
  "language_info": {
   "codemirror_mode": {
    "name": "ipython",
    "version": 3
   },
   "file_extension": ".py",
   "mimetype": "text/x-python",
   "name": "python",
   "nbconvert_exporter": "python",
   "pygments_lexer": "ipython3",
   "version": "3.6.9"
  }
 },
 "nbformat": 4,
 "nbformat_minor": 5
}
